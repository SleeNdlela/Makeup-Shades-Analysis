{
 "cells": [
  {
   "cell_type": "markdown",
   "metadata": {},
   "source": [
    "# **Makeup Shades Analysis**\n",
    "\n",
    "## **Introduction**  \n",
    "The cosmetics industry thrives on the ability to deliver products that resonate with customer preferences. Analyzing makeup shades and their properties is essential for brands to understand trends, improve product offerings, and cater to diverse markets. This project explores a dataset of makeup shades, focusing on their color properties represented in HSV (Hue, Saturation, Value) and HEX codes, as well as their grouping and classification.\n",
    "\n",
    "## **Problem Statement**  \n",
    "The dataset contains missing values and unstructured information, which hinders a smooth analysis of the makeup shades. Without proper cleaning and exploration, identifying patterns and insights, such as how shades align across product groups and brands, becomes challenging. Furthermore, the lack of a clear understanding of color properties may limit the dataset's utility for further applications in product development or marketing strategies.\n",
    "\n",
    "## **Objective**  \n",
    "This notebook aims to:\n",
    "1. **Clean the Dataset**: Handle missing values and ensure a structured dataset ready for analysis.\n",
    "2. **Analyze Color Properties**: Explore the distribution and relationships of color attributes (HSV and HEX).\n",
    "3. **Provide Insights**: Uncover trends and patterns in makeup shades across brands and product groups to support data-driven decision-making in the cosmetics industry.\n"
   ]
  },
  {
   "cell_type": "markdown",
   "metadata": {},
   "source": [
    "# **1. Data Cleaning and Preprocessing of Makeup Dataset**\n",
    "\n",
    "In this section, we perform data cleaning and preprocessing tasks on the makeup dataset. The main steps include identifying missing values, imputing them, and verifying the process.\n",
    "\n",
    "\n",
    "**1.1 Importing necessary libraries**\n",
    "\n",
    "Mmport pandas as pd\n",
    "\n",
    "**1.2 Loading Dataset**\n",
    "\n",
    "Next, we load the dataset from a CSV file into a pandas DataFrame. Be sure to update the file path to match the location of your dataset.\n",
    "\n",
    "**1.3 Identifying Missing Values**\n",
    "\n",
    "Before we begin cleaning the dataset, it's crucial to check for missing values. The following code checks for any missing values in the dataset.\n",
    "\n",
    "**1.4 Imputing Missing Values**\n",
    "\n",
    "In this step, we handle the missing values in the numerical columns (H, S, and V) by imputing the mean of each respective column.\n",
    "\n",
    "**1.5 Verifying the Cleaning Process**\n",
    "\n",
    "After imputing the missing values, we verify that the missing values have been handled correctly by checking again for any missing data.\n"
   ]
  },
  {
   "cell_type": "code",
   "execution_count": 20,
   "metadata": {},
   "outputs": [
    {
     "name": "stdout",
     "output_type": "stream",
     "text": [
      "Initial Dataset:\n"
     ]
    },
    {
     "data": {
      "text/html": [
       "<div>\n",
       "<style scoped>\n",
       "    .dataframe tbody tr th:only-of-type {\n",
       "        vertical-align: middle;\n",
       "    }\n",
       "\n",
       "    .dataframe tbody tr th {\n",
       "        vertical-align: top;\n",
       "    }\n",
       "\n",
       "    .dataframe thead th {\n",
       "        text-align: right;\n",
       "    }\n",
       "</style>\n",
       "<table border=\"1\" class=\"dataframe\">\n",
       "  <thead>\n",
       "    <tr style=\"text-align: right;\">\n",
       "      <th></th>\n",
       "      <th>brand</th>\n",
       "      <th>brand_short</th>\n",
       "      <th>product</th>\n",
       "      <th>product_short</th>\n",
       "      <th>hex</th>\n",
       "      <th>H</th>\n",
       "      <th>S</th>\n",
       "      <th>V</th>\n",
       "      <th>L</th>\n",
       "      <th>group</th>\n",
       "    </tr>\n",
       "  </thead>\n",
       "  <tbody>\n",
       "    <tr>\n",
       "      <th>0</th>\n",
       "      <td>Maybelline</td>\n",
       "      <td>mb</td>\n",
       "      <td>Fit Me</td>\n",
       "      <td>fmf</td>\n",
       "      <td>f3cfb3</td>\n",
       "      <td>26.0</td>\n",
       "      <td>0.26</td>\n",
       "      <td>0.95</td>\n",
       "      <td>86</td>\n",
       "      <td>2</td>\n",
       "    </tr>\n",
       "    <tr>\n",
       "      <th>1</th>\n",
       "      <td>Maybelline</td>\n",
       "      <td>mb</td>\n",
       "      <td>Fit Me</td>\n",
       "      <td>fmf</td>\n",
       "      <td>ffe3c2</td>\n",
       "      <td>32.0</td>\n",
       "      <td>0.24</td>\n",
       "      <td>1.00</td>\n",
       "      <td>92</td>\n",
       "      <td>2</td>\n",
       "    </tr>\n",
       "    <tr>\n",
       "      <th>2</th>\n",
       "      <td>Maybelline</td>\n",
       "      <td>mb</td>\n",
       "      <td>Fit Me</td>\n",
       "      <td>fmf</td>\n",
       "      <td>ffe0cd</td>\n",
       "      <td>23.0</td>\n",
       "      <td>0.20</td>\n",
       "      <td>1.00</td>\n",
       "      <td>91</td>\n",
       "      <td>2</td>\n",
       "    </tr>\n",
       "    <tr>\n",
       "      <th>3</th>\n",
       "      <td>Maybelline</td>\n",
       "      <td>mb</td>\n",
       "      <td>Fit Me</td>\n",
       "      <td>fmf</td>\n",
       "      <td>ffd3be</td>\n",
       "      <td>19.0</td>\n",
       "      <td>0.25</td>\n",
       "      <td>1.00</td>\n",
       "      <td>88</td>\n",
       "      <td>2</td>\n",
       "    </tr>\n",
       "    <tr>\n",
       "      <th>4</th>\n",
       "      <td>Maybelline</td>\n",
       "      <td>mb</td>\n",
       "      <td>Fit Me</td>\n",
       "      <td>fmf</td>\n",
       "      <td>bd9584</td>\n",
       "      <td>18.0</td>\n",
       "      <td>0.30</td>\n",
       "      <td>0.74</td>\n",
       "      <td>65</td>\n",
       "      <td>2</td>\n",
       "    </tr>\n",
       "  </tbody>\n",
       "</table>\n",
       "</div>"
      ],
      "text/plain": [
       "        brand brand_short product product_short     hex     H     S     V   L  \\\n",
       "0  Maybelline          mb  Fit Me           fmf  f3cfb3  26.0  0.26  0.95  86   \n",
       "1  Maybelline          mb  Fit Me           fmf  ffe3c2  32.0  0.24  1.00  92   \n",
       "2  Maybelline          mb  Fit Me           fmf  ffe0cd  23.0  0.20  1.00  91   \n",
       "3  Maybelline          mb  Fit Me           fmf  ffd3be  19.0  0.25  1.00  88   \n",
       "4  Maybelline          mb  Fit Me           fmf  bd9584  18.0  0.30  0.74  65   \n",
       "\n",
       "   group  \n",
       "0      2  \n",
       "1      2  \n",
       "2      2  \n",
       "3      2  \n",
       "4      2  "
      ]
     },
     "metadata": {},
     "output_type": "display_data"
    },
    {
     "name": "stdout",
     "output_type": "stream",
     "text": [
      "\n",
      "Missing Values Summary (Before Cleaning):\n",
      "brand             0\n",
      "brand_short       0\n",
      "product           0\n",
      "product_short     0\n",
      "hex               0\n",
      "H                12\n",
      "S                12\n",
      "V                12\n",
      "L                 0\n",
      "group             0\n",
      "dtype: int64\n",
      "\n",
      "Missing Values Summary (After Cleaning):\n",
      "brand            0\n",
      "brand_short      0\n",
      "product          0\n",
      "product_short    0\n",
      "hex              0\n",
      "H                0\n",
      "S                0\n",
      "V                0\n",
      "L                0\n",
      "group            0\n",
      "dtype: int64\n"
     ]
    }
   ],
   "source": [
    "# Import necessary libraries\n",
    "import pandas as pd\n",
    "\n",
    "# Load the dataset\n",
    "makeup_data = pd.read_csv('shades.csv')  # Ensure the correct path to the dataset\n",
    "\n",
    "# Display the first few rows of the dataset\n",
    "print(\"Initial Dataset:\")\n",
    "display(makeup_data.head())\n",
    "\n",
    "# Step 1: Identify missing values\n",
    "print(\"\\nMissing Values Summary (Before Cleaning):\")\n",
    "missing_values_summary = makeup_data.isnull().sum()\n",
    "print(missing_values_summary)\n",
    "\n",
    "# Step 2: Impute missing values with column means for numerical columns\n",
    "columns_to_impute = ['H', 'S', 'V']\n",
    "makeup_data[columns_to_impute] = makeup_data[columns_to_impute].fillna(makeup_data[columns_to_impute].mean())\n",
    "\n",
    "# Step 3: Verify the cleaning process\n",
    "print(\"\\nMissing Values Summary (After Cleaning):\")\n",
    "cleaned_data_missing_summary = makeup_data.isnull().sum()\n",
    "print(cleaned_data_missing_summary)\n",
    "\n"
   ]
  },
  {
   "cell_type": "markdown",
   "metadata": {},
   "source": [
    "**1.5 Displaying Column Names**\n",
    "\n",
    "This step helps to ensure that the dataset contains the expected columns, and it can be useful for verifying the presence of the columns before performing further data manipulation tasks."
   ]
  },
  {
   "cell_type": "code",
   "execution_count": 21,
   "metadata": {},
   "outputs": [
    {
     "name": "stdout",
     "output_type": "stream",
     "text": [
      "Columns in the dataset:\n",
      "Index(['brand', 'brand_short', 'product', 'product_short', 'hex', 'H', 'S',\n",
      "       'V', 'L', 'group'],\n",
      "      dtype='object')\n"
     ]
    }
   ],
   "source": [
    "# Display the column names to verify their existence\n",
    "print(\"Columns in the dataset:\")\n",
    "print(makeup_data.columns)\n"
   ]
  },
  {
   "cell_type": "markdown",
   "metadata": {},
   "source": [
    "**1.5 Dropping Irrelevant Column Names**\n",
    "\n",
    "Dropping Columns: The drop(columns=[...]) method is used to remove specific columns from the dataset. In this case, we are removing the brand_short and product_short columns.\n",
    "\n",
    "Confirmation: After dropping the columns, we use display(makeup_data.head()) to display the first few rows and confirm that the columns have been successfully removed."
   ]
  },
  {
   "cell_type": "code",
   "execution_count": 22,
   "metadata": {},
   "outputs": [
    {
     "name": "stdout",
     "output_type": "stream",
     "text": [
      "Dataset after dropping 'brand_short' and 'product_short' columns:\n"
     ]
    },
    {
     "data": {
      "text/html": [
       "<div>\n",
       "<style scoped>\n",
       "    .dataframe tbody tr th:only-of-type {\n",
       "        vertical-align: middle;\n",
       "    }\n",
       "\n",
       "    .dataframe tbody tr th {\n",
       "        vertical-align: top;\n",
       "    }\n",
       "\n",
       "    .dataframe thead th {\n",
       "        text-align: right;\n",
       "    }\n",
       "</style>\n",
       "<table border=\"1\" class=\"dataframe\">\n",
       "  <thead>\n",
       "    <tr style=\"text-align: right;\">\n",
       "      <th></th>\n",
       "      <th>brand</th>\n",
       "      <th>product</th>\n",
       "      <th>hex</th>\n",
       "      <th>H</th>\n",
       "      <th>S</th>\n",
       "      <th>V</th>\n",
       "      <th>L</th>\n",
       "      <th>group</th>\n",
       "    </tr>\n",
       "  </thead>\n",
       "  <tbody>\n",
       "    <tr>\n",
       "      <th>0</th>\n",
       "      <td>Maybelline</td>\n",
       "      <td>Fit Me</td>\n",
       "      <td>f3cfb3</td>\n",
       "      <td>26.0</td>\n",
       "      <td>0.26</td>\n",
       "      <td>0.95</td>\n",
       "      <td>86</td>\n",
       "      <td>2</td>\n",
       "    </tr>\n",
       "    <tr>\n",
       "      <th>1</th>\n",
       "      <td>Maybelline</td>\n",
       "      <td>Fit Me</td>\n",
       "      <td>ffe3c2</td>\n",
       "      <td>32.0</td>\n",
       "      <td>0.24</td>\n",
       "      <td>1.00</td>\n",
       "      <td>92</td>\n",
       "      <td>2</td>\n",
       "    </tr>\n",
       "    <tr>\n",
       "      <th>2</th>\n",
       "      <td>Maybelline</td>\n",
       "      <td>Fit Me</td>\n",
       "      <td>ffe0cd</td>\n",
       "      <td>23.0</td>\n",
       "      <td>0.20</td>\n",
       "      <td>1.00</td>\n",
       "      <td>91</td>\n",
       "      <td>2</td>\n",
       "    </tr>\n",
       "    <tr>\n",
       "      <th>3</th>\n",
       "      <td>Maybelline</td>\n",
       "      <td>Fit Me</td>\n",
       "      <td>ffd3be</td>\n",
       "      <td>19.0</td>\n",
       "      <td>0.25</td>\n",
       "      <td>1.00</td>\n",
       "      <td>88</td>\n",
       "      <td>2</td>\n",
       "    </tr>\n",
       "    <tr>\n",
       "      <th>4</th>\n",
       "      <td>Maybelline</td>\n",
       "      <td>Fit Me</td>\n",
       "      <td>bd9584</td>\n",
       "      <td>18.0</td>\n",
       "      <td>0.30</td>\n",
       "      <td>0.74</td>\n",
       "      <td>65</td>\n",
       "      <td>2</td>\n",
       "    </tr>\n",
       "  </tbody>\n",
       "</table>\n",
       "</div>"
      ],
      "text/plain": [
       "        brand product     hex     H     S     V   L  group\n",
       "0  Maybelline  Fit Me  f3cfb3  26.0  0.26  0.95  86      2\n",
       "1  Maybelline  Fit Me  ffe3c2  32.0  0.24  1.00  92      2\n",
       "2  Maybelline  Fit Me  ffe0cd  23.0  0.20  1.00  91      2\n",
       "3  Maybelline  Fit Me  ffd3be  19.0  0.25  1.00  88      2\n",
       "4  Maybelline  Fit Me  bd9584  18.0  0.30  0.74  65      2"
      ]
     },
     "metadata": {},
     "output_type": "display_data"
    }
   ],
   "source": [
    "# Drop the 'brand_short' and 'product_short' columns\n",
    "makeup_data = makeup_data.drop(columns=['brand_short', 'product_short'])\n",
    "\n",
    "# Display the first few rows to confirm the columns were dropped\n",
    "print(\"Dataset after dropping 'brand_short' and 'product_short' columns:\")\n",
    "display(makeup_data.head())\n"
   ]
  },
  {
   "cell_type": "markdown",
   "metadata": {},
   "source": [
    "**8. Saving the Cleaned Dataset**\n",
    "\n",
    "After performing the necessary cleaning and preprocessing steps, we save the cleaned dataset to a CSV file for further use.\n",
    "\n",
    "```python\n",
    "# Save the cleaned dataset\n",
    "cleaned_file_path = r'C:\\Users\\silin\\Downloads\\Makeup.Popularity\\cleaned_shades.csv'  # Updated path\n",
    "makeup_data.to_csv(cleaned_file_path, index=False)\n",
    "print(f\"\\nCleaned dataset saved to {cleaned_file_path}\")\n"
   ]
  },
  {
   "cell_type": "code",
   "execution_count": 24,
   "metadata": {},
   "outputs": [
    {
     "name": "stdout",
     "output_type": "stream",
     "text": [
      "\n",
      "Cleaned dataset saved to C:\\Users\\silin\\Downloads\\Makeup.Popularity\\cleaned_shades.csv\n"
     ]
    }
   ],
   "source": [
    "# Save the cleaned dataset\n",
    "cleaned_file_path = r'C:\\Users\\silin\\Downloads\\Makeup.Popularity\\cleaned_shades.csv'  # Updated path\n",
    "makeup_data.to_csv(cleaned_file_path, index=False)\n",
    "print(f\"\\nCleaned dataset saved to {cleaned_file_path}\")\n"
   ]
  },
  {
   "cell_type": "markdown",
   "metadata": {},
   "source": [
    "## **2. Exploratory Data Analysis**"
   ]
  }
 ],
 "metadata": {
  "kernelspec": {
   "display_name": "base",
   "language": "python",
   "name": "python3"
  },
  "language_info": {
   "codemirror_mode": {
    "name": "ipython",
    "version": 3
   },
   "file_extension": ".py",
   "mimetype": "text/x-python",
   "name": "python",
   "nbconvert_exporter": "python",
   "pygments_lexer": "ipython3",
   "version": "3.12.7"
  }
 },
 "nbformat": 4,
 "nbformat_minor": 2
}
